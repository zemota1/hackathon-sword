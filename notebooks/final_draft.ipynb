{
 "cells": [
  {
   "cell_type": "code",
   "execution_count": 7,
   "id": "27cce9f6-0d29-4cb0-a46a-c523eabfd5c9",
   "metadata": {},
   "outputs": [
    {
     "name": "stdout",
     "output_type": "stream",
     "text": [
      "Requirement already satisfied: youtube-transcript-api in /opt/homebrew/Cellar/jupyterlab/4.0.3/libexec/lib/python3.11/site-packages (0.6.1)\n",
      "Requirement already satisfied: requests in /opt/homebrew/Cellar/jupyterlab/4.0.3/libexec/lib/python3.11/site-packages (from youtube-transcript-api) (2.31.0)\n",
      "Requirement already satisfied: charset-normalizer<4,>=2 in /opt/homebrew/Cellar/jupyterlab/4.0.3/libexec/lib/python3.11/site-packages (from requests->youtube-transcript-api) (3.2.0)\n",
      "Requirement already satisfied: idna<4,>=2.5 in /opt/homebrew/Cellar/jupyterlab/4.0.3/libexec/lib/python3.11/site-packages (from requests->youtube-transcript-api) (3.4)\n",
      "Requirement already satisfied: urllib3<3,>=1.21.1 in /opt/homebrew/Cellar/jupyterlab/4.0.3/libexec/lib/python3.11/site-packages (from requests->youtube-transcript-api) (2.0.3)\n",
      "Requirement already satisfied: certifi>=2017.4.17 in /opt/homebrew/Cellar/jupyterlab/4.0.3/libexec/lib/python3.11/site-packages (from requests->youtube-transcript-api) (2023.5.7)\n",
      "\n",
      "\u001b[1m[\u001b[0m\u001b[34;49mnotice\u001b[0m\u001b[1;39;49m]\u001b[0m\u001b[39;49m A new release of pip is available: \u001b[0m\u001b[31;49m23.0.1\u001b[0m\u001b[39;49m -> \u001b[0m\u001b[32;49m23.2\u001b[0m\n",
      "\u001b[1m[\u001b[0m\u001b[34;49mnotice\u001b[0m\u001b[1;39;49m]\u001b[0m\u001b[39;49m To update, run: \u001b[0m\u001b[32;49mpython3.11 -m pip install --upgrade pip\u001b[0m\n",
      "Note: you may need to restart the kernel to use updated packages.\n"
     ]
    }
   ],
   "source": [
    "%pip install youtube-transcript-api"
   ]
  },
  {
   "cell_type": "code",
   "execution_count": 8,
   "id": "76ba82b2-6548-4b5f-b349-837e5053aad8",
   "metadata": {},
   "outputs": [
    {
     "name": "stdout",
     "output_type": "stream",
     "text": [
      "[{'text': 'is it fair to say that you are at the', 'start': 0.439, 'duration': 6.541}, {'text': 'moment in the form of your life', 'start': 3.54, 'duration': 3.44}, {'text': \"I think it's fair to say that I'm in the\", 'start': 7.34, 'duration': 4.62}, {'text': 'foreign', 'start': 9.72, 'duration': 2.24}, {'text': 'how do you say it not stable but quite', 'start': 39.42, 'duration': 6.479}, {'text': \"don't don't have weeks where you cannot\", 'start': 43.399, 'duration': 5.98}, {'text': 'train because of injuries or food I had', 'start': 45.899, 'duration': 4.621}, {'text': 'a really good winter and I had no', 'start': 49.379, 'duration': 3.5}, {'text': 'injuries', 'start': 50.52, 'duration': 2.359}, {'text': 'in a good shape and then uh you start', 'start': 57.739, 'duration': 7.32}, {'text': 'building towards the tour yeah', 'start': 61.5, 'duration': 3.559}, {'text': 'think of its capitulation yesterday', 'start': 69.86, 'duration': 4.079}, {'text': \"uh he's yeah complete he's such a\", 'start': 81.24, 'duration': 4.699}, {'text': 'complete Rider and sometimes', 'start': 83.759, 'duration': 6.921}, {'text': \"he's the better of everyone\", 'start': 85.939, 'duration': 4.741}, {'text': 'yeah I mean I only have good things to', 'start': 92.72, 'duration': 5.219}, {'text': 'say about today', 'start': 95.22, 'duration': 2.719}, {'text': '[Music]', 'start': 101.24, 'duration': 3.9}]\n"
     ]
    }
   ],
   "source": [
    "from youtube_transcript_api import YouTubeTranscriptApi\n",
    "import re\n",
    "\n",
    "# replace 'video_id' with your youtube video id\n",
    "video_id = '05-RrWGBcdY&ab'\n",
    "transcript = YouTubeTranscriptApi.get_transcript(video_id)\n",
    "\n",
    "print(transcript)"
   ]
  },
  {
   "cell_type": "code",
   "execution_count": 9,
   "id": "42fa3217-d444-4651-9723-e77bd8e0bde8",
   "metadata": {},
   "outputs": [],
   "source": [
    "from pytube import YouTube\n",
    "\n",
    "def get_thumbnail(url):\n",
    "    yt = YouTube(url)\n",
    "    thumbnail_url = yt.thumbnail_url\n",
    "    return thumbnail_url"
   ]
  },
  {
   "cell_type": "code",
   "execution_count": 10,
   "id": "b4bd11c8-c41e-46d6-928e-5b9db99eae77",
   "metadata": {},
   "outputs": [
    {
     "data": {
      "text/plain": [
       "'https://i.ytimg.com/vi/ferZnZ0_rSM/hq720.jpg?sqp=-oaymwEXCNUGEOADIAQqCwjVARCqCBh4INgESFo&rs=AOn4CLCi03kD2pWK6ZZMSrLAK3WikzErVw'"
      ]
     },
     "execution_count": 10,
     "metadata": {},
     "output_type": "execute_result"
    }
   ],
   "source": [
    "thumbnail_url = get_thumbnail(\"https://www.youtube.com/watch?v=ferZnZ0_rSM&ab_channel=NPRMusic\")\n",
    "thumbnail_url"
   ]
  },
  {
   "cell_type": "code",
   "execution_count": 47,
   "id": "d4fc5cf1-f858-471f-b3e4-48e8917881ce",
   "metadata": {},
   "outputs": [
    {
     "data": {
      "text/plain": [
       "('Ukraine Advances Around Bakhmut: What Next?',\n",
       " 551,\n",
       " 'UC-eegKVWEgBCa4OzjnK_PtA')"
      ]
     },
     "execution_count": 47,
     "metadata": {},
     "output_type": "execute_result"
    }
   ],
   "source": [
    "yt = YouTube(\"https://www.youtube.com/watch?v=RmVmqvqUWzI&ab_channel=TLDRNewsEU\")\n",
    "yt.title, yt.length, yt.channel_id"
   ]
  },
  {
   "cell_type": "code",
   "execution_count": 44,
   "id": "d9e69bba-1f8f-4e89-8737-96f899b46785",
   "metadata": {},
   "outputs": [
    {
     "name": "stdout",
     "output_type": "stream",
     "text": [
      "Help on YouTube in module pytube.__main__ object:\n",
      "\n",
      "class YouTube(builtins.object)\n",
      " |  YouTube(url: str, on_progress_callback: Optional[Callable[[Any, bytes, int], NoneType]] = None, on_complete_callback: Optional[Callable[[Any, Optional[str]], NoneType]] = None, proxies: Dict[str, str] = None, use_oauth: bool = False, allow_oauth_cache: bool = True)\n",
      " |  \n",
      " |  Core developer interface for pytube.\n",
      " |  \n",
      " |  Methods defined here:\n",
      " |  \n",
      " |  __eq__(self, o: object) -> bool\n",
      " |      Return self==value.\n",
      " |  \n",
      " |  __init__(self, url: str, on_progress_callback: Optional[Callable[[Any, bytes, int], NoneType]] = None, on_complete_callback: Optional[Callable[[Any, Optional[str]], NoneType]] = None, proxies: Dict[str, str] = None, use_oauth: bool = False, allow_oauth_cache: bool = True)\n",
      " |      Construct a :class:`YouTube <YouTube>`.\n",
      " |      \n",
      " |      :param str url:\n",
      " |          A valid YouTube watch URL.\n",
      " |      :param func on_progress_callback:\n",
      " |          (Optional) User defined callback function for stream download\n",
      " |          progress events.\n",
      " |      :param func on_complete_callback:\n",
      " |          (Optional) User defined callback function for stream download\n",
      " |          complete events.\n",
      " |      :param dict proxies:\n",
      " |          (Optional) A dict mapping protocol to proxy address which will be used by pytube.\n",
      " |      :param bool use_oauth:\n",
      " |          (Optional) Prompt the user to authenticate to YouTube.\n",
      " |          If allow_oauth_cache is set to True, the user should only be prompted once.\n",
      " |      :param bool allow_oauth_cache:\n",
      " |          (Optional) Cache OAuth tokens locally on the machine. Defaults to True.\n",
      " |          These tokens are only generated if use_oauth is set to True as well.\n",
      " |  \n",
      " |  __repr__(self)\n",
      " |      Return repr(self).\n",
      " |  \n",
      " |  bypass_age_gate(self)\n",
      " |      Attempt to update the vid_info by bypassing the age gate.\n",
      " |  \n",
      " |  check_availability(self)\n",
      " |      Check whether the video is available.\n",
      " |      \n",
      " |      Raises different exceptions based on why the video is unavailable,\n",
      " |      otherwise does nothing.\n",
      " |  \n",
      " |  register_on_complete_callback(self, func: Callable[[Any, Optional[str]], NoneType])\n",
      " |      Register a download complete callback function post initialization.\n",
      " |      \n",
      " |      :param callable func:\n",
      " |          A callback function that takes ``stream`` and  ``file_path``.\n",
      " |      \n",
      " |      :rtype: None\n",
      " |  \n",
      " |  register_on_progress_callback(self, func: Callable[[Any, bytes, int], NoneType])\n",
      " |      Register a download progress callback function post initialization.\n",
      " |      \n",
      " |      :param callable func:\n",
      " |          A callback function that takes ``stream``, ``chunk``,\n",
      " |           and ``bytes_remaining`` as parameters.\n",
      " |      \n",
      " |      :rtype: None\n",
      " |  \n",
      " |  ----------------------------------------------------------------------\n",
      " |  Static methods defined here:\n",
      " |  \n",
      " |  from_id(video_id: str) -> 'YouTube'\n",
      " |      Construct a :class:`YouTube <YouTube>` object from a video id.\n",
      " |      \n",
      " |      :param str video_id:\n",
      " |          The video id of the YouTube video.\n",
      " |      \n",
      " |      :rtype: :class:`YouTube <YouTube>`\n",
      " |  \n",
      " |  ----------------------------------------------------------------------\n",
      " |  Readonly properties defined here:\n",
      " |  \n",
      " |  age_restricted\n",
      " |  \n",
      " |  caption_tracks\n",
      " |      Get a list of :class:`Caption <Caption>`.\n",
      " |      \n",
      " |      :rtype: List[Caption]\n",
      " |  \n",
      " |  captions\n",
      " |      Interface to query caption tracks.\n",
      " |      \n",
      " |      :rtype: :class:`CaptionQuery <CaptionQuery>`.\n",
      " |  \n",
      " |  channel_id\n",
      " |      Get the video poster's channel id.\n",
      " |      \n",
      " |      :rtype: str\n",
      " |  \n",
      " |  channel_url\n",
      " |      Construct the channel url for the video's poster from the channel id.\n",
      " |      \n",
      " |      :rtype: str\n",
      " |  \n",
      " |  description\n",
      " |      Get the video description.\n",
      " |      \n",
      " |      :rtype: str\n",
      " |  \n",
      " |  embed_html\n",
      " |  \n",
      " |  fmt_streams\n",
      " |      Returns a list of streams if they have been initialized.\n",
      " |      \n",
      " |      If the streams have not been initialized, finds all relevant\n",
      " |      streams and initializes them.\n",
      " |  \n",
      " |  initial_data\n",
      " |  \n",
      " |  js\n",
      " |  \n",
      " |  js_url\n",
      " |  \n",
      " |  keywords\n",
      " |      Get the video keywords.\n",
      " |      \n",
      " |      :rtype: List[str]\n",
      " |  \n",
      " |  length\n",
      " |      Get the video length in seconds.\n",
      " |      \n",
      " |      :rtype: int\n",
      " |  \n",
      " |  metadata\n",
      " |      Get the metadata for the video.\n",
      " |      \n",
      " |      :rtype: YouTubeMetadata\n",
      " |  \n",
      " |  rating\n",
      " |      Get the video average rating.\n",
      " |      \n",
      " |      :rtype: float\n",
      " |  \n",
      " |  streaming_data\n",
      " |      Return streamingData from video info.\n",
      " |  \n",
      " |  streams\n",
      " |      Interface to query both adaptive (DASH) and progressive streams.\n",
      " |      \n",
      " |      :rtype: :class:`StreamQuery <StreamQuery>`.\n",
      " |  \n",
      " |  thumbnail_url\n",
      " |      Get the thumbnail url image.\n",
      " |      \n",
      " |      :rtype: str\n",
      " |  \n",
      " |  vid_info\n",
      " |      Parse the raw vid info and return the parsed result.\n",
      " |      \n",
      " |      :rtype: Dict[Any, Any]\n",
      " |  \n",
      " |  views\n",
      " |      Get the number of the times the video has been viewed.\n",
      " |      \n",
      " |      :rtype: int\n",
      " |  \n",
      " |  watch_html\n",
      " |  \n",
      " |  ----------------------------------------------------------------------\n",
      " |  Data descriptors defined here:\n",
      " |  \n",
      " |  __dict__\n",
      " |      dictionary for instance variables (if defined)\n",
      " |  \n",
      " |  __weakref__\n",
      " |      list of weak references to the object (if defined)\n",
      " |  \n",
      " |  author\n",
      " |      Get the video author.\n",
      " |      :rtype: str\n",
      " |  \n",
      " |  publish_date\n",
      " |      Get the publish date.\n",
      " |      \n",
      " |      :rtype: datetime\n",
      " |  \n",
      " |  title\n",
      " |      Get the video title.\n",
      " |      \n",
      " |      :rtype: str\n",
      " |  \n",
      " |  ----------------------------------------------------------------------\n",
      " |  Data and other attributes defined here:\n",
      " |  \n",
      " |  __hash__ = None\n",
      "\n"
     ]
    }
   ],
   "source": [
    "help(yt)"
   ]
  },
  {
   "cell_type": "code",
   "execution_count": 12,
   "id": "f4c969da-0749-412d-8be3-95dc3a46206e",
   "metadata": {},
   "outputs": [
    {
     "data": {
      "text/plain": [
       "'RmVmqvqUWzI'"
      ]
     },
     "execution_count": 12,
     "metadata": {},
     "output_type": "execute_result"
    }
   ],
   "source": [
    "url = \"https://www.youtube.com/watch?v=RmVmqvqUWzI&ab_channel=TLDRNewsEU\"\n",
    "id = url.split(\"watch?v=\")[1].split(\"&\")[0]\n",
    "id.split(\"&\")[0]"
   ]
  },
  {
   "cell_type": "code",
   "execution_count": 13,
   "id": "6a6c3ca8-c2b4-4568-b33e-698f19eccdfb",
   "metadata": {},
   "outputs": [],
   "source": [
    "url = \"https://www.youtube.com/watch?v=RmVmqvqUWzI&ab_channel=TLDRNewsEU\"\n",
    "id = url.split(\"watch?v=\")[1].split(\"&\")[0]\n",
    "\n",
    "yt = YouTube(\"https://www.youtube.com/watch?v=RmVmqvqUWzI&ab_channel=TLDRNewsEU\")\n",
    "\n",
    "transcript = YouTubeTranscriptApi.get_transcript(id)\n",
    "\n",
    "text = f\"TITLE: {yt.title} TRANSCRIPT: {transcript}\""
   ]
  },
  {
   "cell_type": "code",
   "execution_count": 30,
   "id": "1840ac7d-195d-4e37-8cf9-e800dd0e6005",
   "metadata": {},
   "outputs": [],
   "source": [
    "import os\n",
    "import sys\n",
    "import openai\n",
    "\n",
    "from langchain.llms import OpenAI\n",
    "from langchain import LLMChain\n",
    "from langchain.schema import AIMessage, HumanMessage\n",
    "\n",
    "from langchain.chat_models import ChatOpenAI\n",
    "from langchain.prompts import PromptTemplate\n",
    "from langchain.prompts.chat import (\n",
    "    ChatPromptTemplate,\n",
    "    HumanMessagePromptTemplate,\n",
    ")\n",
    "\n",
    "sys.path.insert(0, \".\")\n",
    "sys.path.insert(1, \"..\")\n",
    "from src.config import AZURE_OPENAI_KEY, AZURE_OPENAI_ENDPOINT, AZURE_ENGINE_NAME"
   ]
  },
  {
   "cell_type": "code",
   "execution_count": 15,
   "id": "085ad27b-00e0-47ad-ae14-406c6327b823",
   "metadata": {},
   "outputs": [],
   "source": [
    "openai.api_type = \"azure\"\n",
    "openai.api_base = AZURE_OPENAI_ENDPOINT\n",
    "openai.api_version = \"2023-05-15\"\n",
    "openai.api_key = AZURE_OPENAI_KEY"
   ]
  },
  {
   "cell_type": "code",
   "execution_count": 17,
   "id": "331ea957-19a8-4215-951b-7b68004b568b",
   "metadata": {},
   "outputs": [
    {
     "name": "stderr",
     "output_type": "stream",
     "text": [
      "WARNING! engine is not default parameter.\n",
      "                    engine was transferred to model_kwargs.\n",
      "                    Please confirm that engine is what you intended.\n"
     ]
    }
   ],
   "source": [
    "model = ChatOpenAI(engine=AZURE_ENGINE_NAME, openai_api_key=AZURE_OPENAI_KEY, openai_api_base=AZURE_OPENAI_ENDPOINT, temperature=0.5)"
   ]
  },
  {
   "cell_type": "code",
   "execution_count": 18,
   "id": "00e12f20-c92b-4587-8f23-e65ea5b71115",
   "metadata": {},
   "outputs": [],
   "source": [
    "human_message_prompt = HumanMessagePromptTemplate(\n",
    "        prompt=PromptTemplate(\n",
    "            input_variables=[\"transcription\"],\n",
    "            template=\"I am giving you a youtube transciption and the title {transcription} could you summary the video content with less than 100 words?\",\n",
    "        )\n",
    "    )\n",
    "chat_prompt_template = ChatPromptTemplate.from_messages([human_message_prompt])\n",
    "first_chain = LLMChain(llm=model, prompt=chat_prompt_template)\n",
    "structured_text = first_chain.run(text)"
   ]
  },
  {
   "cell_type": "code",
   "execution_count": 19,
   "id": "50f8d07c-2f9e-48bb-b34f-2be1108fe672",
   "metadata": {},
   "outputs": [
    {
     "data": {
      "text/plain": [
       "'The video discusses the current situation in Ukraine, focusing on the advances made by the Ukrainian Army around Bakhmut. The front lines have been relatively stable, but Ukraine has been making small gains in strategic areas. They have shifted to a more attritional strategy and received support from American custom munitions. The Russians have tried to counter these advances but have faced limited success. The capture of Bakhmut would be symbolically significant for Ukraine. The video also mentions the availability of other conflict-related content on Nebula, a streaming service.'"
      ]
     },
     "execution_count": 19,
     "metadata": {},
     "output_type": "execute_result"
    }
   ],
   "source": [
    "structured_text"
   ]
  },
  {
   "cell_type": "code",
   "execution_count": 42,
   "id": "a9f0f107-5c7b-4d6c-9b21-ce85fb77bc28",
   "metadata": {},
   "outputs": [],
   "source": [
    "start_message = \"I'm providing you with a YouTube transcription and the title: {transcription}.\"\n",
    "prompt_start = \"\"\"Please generate an output in JSON format. If a requested field doesn't make sense, please fill it with 'NA'. The maximum word count for each field is indicated after each field placeholder: \n",
    "                {{\n",
    "                    \"Topic\": \"A topic derived from the video transcription, intended for use in a recommendation system (up to 10 words)\",\n",
    "                    \"Summary\": \"A summary of the video transcription (up to 100 words)\",\n",
    "                    \"Wikipedia\": \"Keyword to be used for deeper research on Wikipedia relating to the video (up to 5 words)\",\n",
    "                    \"Google\": \"Keyword to be used for further searches on Google about the video (up to 5 words)\",\n",
    "                    \"Arxiv\": \"Keyword to search for academic papers related to the video's topic (up to 5 words)\"\n",
    "                }}\n",
    "\n",
    "                Transcription:\n",
    "                {text}\n",
    "            \"\"\"\n",
    "final_prompt = prompt_start.format(text=text)\n",
    "\n",
    "prompt = [AIMessage(content=start_message), HumanMessage(content=final_prompt)]\n",
    "model\n",
    "response = model(prompt).content"
   ]
  },
  {
   "cell_type": "code",
   "execution_count": 43,
   "id": "92048b52-a2cb-4863-afa1-f054d3569a3e",
   "metadata": {},
   "outputs": [
    {
     "data": {
      "text/plain": [
       "'{\\n    \"Topic\": \"Ukraine Advances Around Bakhmut: What Next?\",\\n    \"Summary\": \"Not much is happening along the front lines in Ukraine at the moment. The Ukrainian Army has moved away from large-scale offensives towards a more attritional strategy. However, they have continued to make small but strategically significant gains in Bakhmut, prompting anxiety among Russian channels and recently mobilized Russian troops. This video provides updates on the battlefield and explains the reasons for the slower pace of the Ukrainian advance. It also highlights the progress made in the Northeast around Kupiansk and Kramatorsk. The video emphasizes the symbolic value of Bakhmut and its potential impact on the conflict.\",\\n    \"Wikipedia\": \"Ukraine, Bakhmut\",\\n    \"Google\": \"Ukraine advances, Bakhmut\",\\n    \"Arxiv\": \"Ukraine conflict, Bakhmut\"\\n}'"
      ]
     },
     "execution_count": 43,
     "metadata": {},
     "output_type": "execute_result"
    }
   ],
   "source": [
    "response"
   ]
  },
  {
   "cell_type": "code",
   "execution_count": null,
   "id": "17ce612a-4ae8-41a0-8f97-7f8bafd83820",
   "metadata": {},
   "outputs": [],
   "source": []
  },
  {
   "cell_type": "code",
   "execution_count": null,
   "id": "690d3384-d13e-49c0-8da5-e0f3109db490",
   "metadata": {},
   "outputs": [],
   "source": []
  }
 ],
 "metadata": {
  "kernelspec": {
   "display_name": "Python 3 (ipykernel)",
   "language": "python",
   "name": "python3"
  },
  "language_info": {
   "codemirror_mode": {
    "name": "ipython",
    "version": 3
   },
   "file_extension": ".py",
   "mimetype": "text/x-python",
   "name": "python",
   "nbconvert_exporter": "python",
   "pygments_lexer": "ipython3",
   "version": "3.11.4"
  }
 },
 "nbformat": 4,
 "nbformat_minor": 5
}
