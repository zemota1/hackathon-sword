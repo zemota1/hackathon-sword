{
 "cells": [
  {
   "cell_type": "code",
   "execution_count": 1,
   "id": "a9155866-2642-4345-808f-8f1ba9ac1fa9",
   "metadata": {},
   "outputs": [],
   "source": [
    "import sqlite3\n",
    "import os\n",
    "import sys\n",
    "import openai\n",
    "import json\n",
    "\n",
    "from langchain.llms import OpenAI\n",
    "from langchain import LLMChain\n",
    "from langchain.schema import AIMessage, HumanMessage\n",
    "from tqdm import tqdm\n",
    "import pandas as pd\n",
    "\n",
    "from langchain.chat_models import ChatOpenAI\n",
    "from langchain.prompts import PromptTemplate\n",
    "from langchain.prompts.chat import (\n",
    "    ChatPromptTemplate,\n",
    "    HumanMessagePromptTemplate,\n",
    ")\n",
    "sys.path.insert(0, \".\")\n",
    "sys.path.insert(1, \"..\")\n",
    "from src.config import AZURE_OPENAI_KEY, AZURE_OPENAI_ENDPOINT, AZURE_ENGINE_NAME\n",
    "\n",
    "from pytube import YouTube\n",
    "from youtube_transcript_api import YouTubeTranscriptApi\n",
    "import re"
   ]
  },
  {
   "cell_type": "code",
   "execution_count": 2,
   "id": "c2bd65a4-ab6d-4813-a337-7c25825bb789",
   "metadata": {},
   "outputs": [],
   "source": [
    "openai.api_type = \"azure\"\n",
    "openai.api_base = AZURE_OPENAI_ENDPOINT\n",
    "openai.api_version = \"2023-05-15\"\n",
    "openai.api_key = AZURE_OPENAI_KEY"
   ]
  },
  {
   "cell_type": "code",
   "execution_count": 3,
   "id": "ac07ee79-956f-43ed-8602-8b11d0dd47f7",
   "metadata": {},
   "outputs": [
    {
     "name": "stderr",
     "output_type": "stream",
     "text": [
      "WARNING! engine is not default parameter.\n",
      "                    engine was transferred to model_kwargs.\n",
      "                    Please confirm that engine is what you intended.\n"
     ]
    }
   ],
   "source": [
    "model = ChatOpenAI(engine=AZURE_ENGINE_NAME, openai_api_key=AZURE_OPENAI_KEY, openai_api_base=AZURE_OPENAI_ENDPOINT, temperature=0.5)"
   ]
  },
  {
   "cell_type": "code",
   "execution_count": 4,
   "id": "44e7a142-08d0-4545-b7cb-deb61189312f",
   "metadata": {},
   "outputs": [],
   "source": [
    "conn = sqlite3.connect('../db/sword_hackathon.db')\n",
    "\n",
    "# Create a cursor\n",
    "cursor = conn.cursor()\n",
    "\n",
    "# Create a new table\n",
    "cursor.execute(\"\"\"\n",
    "    CREATE TABLE IF NOT EXISTS youtube_summaries (\n",
    "        id INTEGER PRIMARY KEY,\n",
    "        url TEXT,\n",
    "        summary TEXT\n",
    "    )\n",
    "\"\"\")\n",
    "\n",
    "# Commit the changes\n",
    "conn.commit()\n",
    "\n"
   ]
  },
  {
   "cell_type": "code",
   "execution_count": 5,
   "id": "2133b352-3b72-4a8c-adc0-10f2d0f7a11e",
   "metadata": {},
   "outputs": [
    {
     "data": {
      "text/plain": [
       "'\"{\\\\n    \\\\\"Topic\\\\\": \\\\\"Butter Chicken Recipe\\\\\",\\\\n    \\\\\"Summary\\\\\": \\\\\"Learn how to make delicious butter chicken at home with this easy recipe. Marinate chicken with garlic paste, ginger paste, red chilli powder, and salt. Pan fry the chicken until almost done. In a separate pan, saut\\\\u00e9 roughly cut onions and add butter. Add roughly cut tomatoes and cashew nuts. Mix well and add water, garlic paste, salt, malt vinegar, sugar, garam masala powder, and red chilli powder. Simmer the mixture until mushy and blend it into a fine puree. Strain the mixture and reheat it with butter, cream, and crushed methi. Let the gravy simmer and serve with fresh cream and kasoori methi.\\\\\",\\\\n    \\\\\"Wikipedia\\\\\": \\\\\"Butter Chicken\\\\\",\\\\n    \\\\\"Google\\\\\": \\\\\"Butter Chicken recipe\\\\\",\\\\n    \\\\\"Arxiv\\\\\": \\\\\"NA\\\\\"\\\\n}\"'"
      ]
     },
     "execution_count": 5,
     "metadata": {},
     "output_type": "execute_result"
    }
   ],
   "source": [
    "# Connect to the SQLite database\n",
    "conn = sqlite3.connect('../db/sword_hackathon.db')\n",
    "\n",
    "# Execute the SQL command and convert it to a pandas DataFrame\n",
    "df_existing = pd.read_sql_query(\"SELECT * FROM youtube_summaries\", conn)\n",
    "\n",
    "# Close the connection to the database\n",
    "conn.close()\n",
    "\n",
    "# Display the DataFrame\n",
    "df_existing.iloc[0]['summary']"
   ]
  },
  {
   "cell_type": "code",
   "execution_count": 6,
   "id": "56941cdf-668e-445a-955f-c348532d0696",
   "metadata": {},
   "outputs": [],
   "source": [
    "def process_summary(text):\n",
    "    start_message = \"I'm providing you with a YouTube transcription and the title: {transcription}.\"\n",
    "    prompt_start = \"\"\"Please generate an output in JSON format. If a requested field doesn't make sense, please fill it with 'NA'. The maximum word count for each field is indicated after each field placeholder: \n",
    "                    {{\n",
    "                        \"Topic\": \"A topic derived from the video transcription, intended for use in a recommendation system (up to 10 words)\",\n",
    "                        \"Summary\": \"A summary of the video transcription (up to 100 words)\",\n",
    "                        \"Wikipedia\": \"Keyword to be used for deeper research on Wikipedia relating to the video (up to 5 words)\",\n",
    "                        \"Google\": \"Keyword to be used for further searches on Google about the video (up to 5 words)\",\n",
    "                        \"Arxiv\": \"Keyword to search for academic papers related to the video's topic (up to 5 words)\"\n",
    "                    }}\n",
    "    \n",
    "                    Transcription:\n",
    "                    {text}\n",
    "                \"\"\"\n",
    "    final_prompt = prompt_start.format(text=text)\n",
    "    \n",
    "    prompt = [AIMessage(content=start_message), HumanMessage(content=final_prompt)]\n",
    "    model\n",
    "    response = model(prompt).content\n",
    "\n",
    "    try:\n",
    "        json.loads(response)\n",
    "    except ValueError as e:\n",
    "        response = None\n",
    "        msg = 'Output not JSON.'\n",
    "\n",
    "    return response"
   ]
  },
  {
   "cell_type": "code",
   "execution_count": 7,
   "id": "e4faaad3-a5b8-48eb-8efe-3a79ad5420b5",
   "metadata": {},
   "outputs": [
    {
     "name": "stderr",
     "output_type": "stream",
     "text": [
      " 39%|███████████████▊                         | 164/424 [00:13<00:09, 26.33it/s]Retrying langchain.chat_models.openai.ChatOpenAI.completion_with_retry.<locals>._completion_with_retry in 1.0 seconds as it raised RateLimitError: Requests to the Creates a completion for the chat message Operation under Azure OpenAI API version 2023-05-15 have exceeded call rate limit of your current OpenAI S0 pricing tier. Please retry after 1 second. Please go here: https://aka.ms/oai/quotaincrease if you would like to further increase the default rate limit..\n",
      "100%|█████████████████████████████████████████| 424/424 [01:43<00:00,  4.10it/s]\n"
     ]
    }
   ],
   "source": [
    "conn = sqlite3.connect('../db/sword_hackathon.db')\n",
    "\n",
    "# Create a cursor\n",
    "cursor = conn.cursor()\n",
    "\n",
    "# Fetch all rows\n",
    "cursor.execute(\"SELECT * FROM youtube_content ORDER BY id\")\n",
    "rows = cursor.fetchall()\n",
    "\n",
    "# Iterate over all rows\n",
    "for row in tqdm(rows):\n",
    "    if row[-1] not in df_existing.url.unique():\n",
    "        try:\n",
    "            summary = process_summary(row[3])\n",
    "        except:\n",
    "            continue\n",
    "        if summary is not None:\n",
    "            json_summary = json.dumps(summary)\n",
    "            cursor.execute(\"INSERT INTO youtube_summaries (url, summary) VALUES (?, ?)\", (row[-1], json_summary))\n",
    "\n",
    "# Commit the changes\n",
    "conn.commit()\n",
    "conn.close()\n"
   ]
  },
  {
   "cell_type": "code",
   "execution_count": null,
   "id": "f07f71f5-0ed4-4cab-a963-50d0847a78a4",
   "metadata": {},
   "outputs": [],
   "source": []
  }
 ],
 "metadata": {
  "kernelspec": {
   "display_name": "Python 3 (ipykernel)",
   "language": "python",
   "name": "python3"
  },
  "language_info": {
   "codemirror_mode": {
    "name": "ipython",
    "version": 3
   },
   "file_extension": ".py",
   "mimetype": "text/x-python",
   "name": "python",
   "nbconvert_exporter": "python",
   "pygments_lexer": "ipython3",
   "version": "3.11.4"
  }
 },
 "nbformat": 4,
 "nbformat_minor": 5
}
