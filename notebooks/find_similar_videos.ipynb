{
 "cells": [
  {
   "cell_type": "code",
   "execution_count": 1,
   "id": "dc89b3a5-5d9b-487e-ab15-597e8e7795e5",
   "metadata": {},
   "outputs": [
    {
     "name": "stderr",
     "output_type": "stream",
     "text": [
      "/opt/homebrew/lib/python3.11/site-packages/tqdm/auto.py:22: TqdmWarning: IProgress not found. Please update jupyter and ipywidgets. See https://ipywidgets.readthedocs.io/en/stable/user_install.html\n",
      "  from .autonotebook import tqdm as notebook_tqdm\n"
     ]
    }
   ],
   "source": [
    "from transformers import AutoTokenizer, AutoModelForCausalLM\n",
    "from sklearn.metrics.pairwise import cosine_similarity\n",
    "import torch\n",
    "import sqlite3\n",
    "import pandas as pd\n",
    "import numpy as np\n",
    "import json\n",
    "import pickle\n",
    "from sklearn.manifold import TSNE\n",
    "import matplotlib.pyplot as plt\n",
    "import numpy as np\n",
    "from io import BytesIO"
   ]
  },
  {
   "cell_type": "code",
   "execution_count": 2,
   "id": "5ca36381-56cf-4153-a335-d9e9a6ba24a6",
   "metadata": {},
   "outputs": [
    {
     "name": "stderr",
     "output_type": "stream",
     "text": [
      "Loading checkpoint shards: 100%|██████████████████| 2/2 [00:01<00:00,  1.23it/s]\n"
     ]
    }
   ],
   "source": [
    "tokenizer = AutoTokenizer.from_pretrained(\"meta-llama/Llama-2-7b-hf\")\n",
    "model = AutoModelForCausalLM.from_pretrained(\"meta-llama/Llama-2-7b-hf\")"
   ]
  },
  {
   "cell_type": "code",
   "execution_count": 3,
   "id": "939d1ea8-ddb9-4e27-985d-256083a10a93",
   "metadata": {},
   "outputs": [],
   "source": [
    "conn = sqlite3.connect('../db/sword_hackathon.db')\n",
    "\n",
    "# Create a cursor\n",
    "cursor = conn.cursor()\n",
    "\n",
    "# Create a new table\n",
    "cursor.execute(\"\"\"\n",
    "    CREATE TABLE IF NOT EXISTS youtube_embeddings (\n",
    "        id INTEGER PRIMARY KEY,\n",
    "        url TEXT,\n",
    "        embeddings TEXT\n",
    "    )\n",
    "\"\"\")\n",
    "\n",
    "# Commit the changes\n",
    "conn.commit()\n",
    "conn.close()\n",
    "\n"
   ]
  },
  {
   "cell_type": "code",
   "execution_count": 4,
   "id": "35335ca0-9cce-4357-84ed-bb5845d7e8dd",
   "metadata": {},
   "outputs": [
    {
     "data": {
      "text/html": [
       "<div>\n",
       "<style scoped>\n",
       "    .dataframe tbody tr th:only-of-type {\n",
       "        vertical-align: middle;\n",
       "    }\n",
       "\n",
       "    .dataframe tbody tr th {\n",
       "        vertical-align: top;\n",
       "    }\n",
       "\n",
       "    .dataframe thead th {\n",
       "        text-align: right;\n",
       "    }\n",
       "</style>\n",
       "<table border=\"1\" class=\"dataframe\">\n",
       "  <thead>\n",
       "    <tr style=\"text-align: right;\">\n",
       "      <th></th>\n",
       "      <th>id</th>\n",
       "      <th>url</th>\n",
       "      <th>embeddings</th>\n",
       "    </tr>\n",
       "  </thead>\n",
       "  <tbody>\n",
       "  </tbody>\n",
       "</table>\n",
       "</div>"
      ],
      "text/plain": [
       "Empty DataFrame\n",
       "Columns: [id, url, embeddings]\n",
       "Index: []"
      ]
     },
     "execution_count": 4,
     "metadata": {},
     "output_type": "execute_result"
    }
   ],
   "source": [
    "# Connect to the SQLite database\n",
    "conn = sqlite3.connect('../db/sword_hackathon.db')\n",
    "\n",
    "# Execute the SQL command and convert it to a pandas DataFrame\n",
    "df_existing = pd.read_sql_query(\"SELECT * FROM youtube_embeddings\", conn)\n",
    "\n",
    "# Close the connection to the database\n",
    "conn.close()\n",
    "\n",
    "# Display the DataFrame\n",
    "df_existing"
   ]
  },
  {
   "cell_type": "code",
   "execution_count": 5,
   "id": "d20d4975-2005-432e-a148-0c153304bf60",
   "metadata": {},
   "outputs": [
    {
     "data": {
      "text/plain": [
       "(367, 3)"
      ]
     },
     "execution_count": 5,
     "metadata": {},
     "output_type": "execute_result"
    }
   ],
   "source": [
    "conn = sqlite3.connect('../db/sword_hackathon.db')\n",
    "\n",
    "cur = conn.cursor()\n",
    "cur.execute(\"SELECT * FROM youtube_summaries\")\n",
    "\n",
    "results = cur.fetchall()\n",
    "columns = [column[0] for column in cur.description]\n",
    "df = pd.DataFrame(results, columns=columns)\n",
    "df = df.drop_duplicates()\n",
    "conn.close()\n",
    "df.shape"
   ]
  },
  {
   "cell_type": "code",
   "execution_count": 6,
   "id": "a594c4a2-cdad-4cf0-80d3-5ae60c3cbc9a",
   "metadata": {},
   "outputs": [],
   "source": [
    "def calculate_embedding(text):\n",
    "    input_ids = tokenizer.encode(text, return_tensors='pt')\n",
    "\n",
    "    with torch.no_grad():\n",
    "        embeddings = model(input_ids)[0]\n",
    "\n",
    "    mean_embedding = torch.mean(embeddings, dim=1).squeeze()\n",
    "\n",
    "    return mean_embedding.numpy()"
   ]
  },
  {
   "cell_type": "code",
   "execution_count": 7,
   "id": "fd5b6cc3-7d2d-422b-aa42-f7d185445c5f",
   "metadata": {},
   "outputs": [
    {
     "data": {
      "text/plain": [
       "367"
      ]
     },
     "execution_count": 7,
     "metadata": {},
     "output_type": "execute_result"
    }
   ],
   "source": [
    "all_documents = []\n",
    "for idx, row in df.iterrows():\n",
    "    content = json.loads(row['summary'])\n",
    "    all_documents.append(json.loads(content)['Summary'])\n",
    "len(all_documents)"
   ]
  },
  {
   "cell_type": "code",
   "execution_count": 10,
   "id": "8f6cf180-623a-4743-82af-3b61ed88b021",
   "metadata": {},
   "outputs": [],
   "source": [
    "#embeddings = [calculate_embedding(doc) for doc in all_documents]"
   ]
  },
  {
   "cell_type": "code",
   "execution_count": 11,
   "id": "84c5520f-686a-4712-a4ae-3e054437b2bc",
   "metadata": {},
   "outputs": [
    {
     "data": {
      "text/plain": [
       "367"
      ]
     },
     "execution_count": 11,
     "metadata": {},
     "output_type": "execute_result"
    }
   ],
   "source": [
    "len(embeddings)"
   ]
  },
  {
   "cell_type": "code",
   "execution_count": 12,
   "id": "ce13f0e6-8974-48cf-95c4-3fdb5656969f",
   "metadata": {},
   "outputs": [],
   "source": [
    "reshape_embeddings = np.array(embeddings).reshape(367, -1)"
   ]
  },
  {
   "cell_type": "code",
   "execution_count": null,
   "id": "cb11cd7f-f72f-4165-8e0a-e66782ec6b46",
   "metadata": {},
   "outputs": [],
   "source": [
    "similarity_matrix = cosine_similarity(reshape_embeddings)"
   ]
  },
  {
   "cell_type": "code",
   "execution_count": null,
   "id": "3bee9626-d8f3-4b13-bdf8-925e2e18990c",
   "metadata": {},
   "outputs": [],
   "source": [
    "top_10_indices = np.argsort(similarity_matrix, axis=1)[:, -11:-1]"
   ]
  },
  {
   "cell_type": "code",
   "execution_count": null,
   "id": "1d72d77b-6398-4f71-a965-720b4b4a8ae7",
   "metadata": {},
   "outputs": [],
   "source": [
    "tsne = TSNE(n_components=2, random_state=42)\n",
    "embeddings_2d = tsne.fit_transform(reshape_embeddings)"
   ]
  },
  {
   "cell_type": "code",
   "execution_count": null,
   "id": "53d27f6f-b030-4d43-97bd-45b1cb201e97",
   "metadata": {},
   "outputs": [],
   "source": [
    "# Let's say `current_doc_index` is the index of the current document in `all_documents`.\n",
    "current_doc_index = 0\n",
    "\n",
    "plt.figure(figsize=(10, 10))\n",
    "\n",
    "# Plot all documents in gray color\n",
    "plt.scatter(embeddings_2d[:, 0], embeddings_2d[:, 1], color='gray')\n",
    "\n",
    "# Plot current document in red color\n",
    "plt.scatter(embeddings_2d[current_doc_index, 0], embeddings_2d[current_doc_index, 1], color='red')\n",
    "\n",
    "# Plot top 5 similar documents in blue color\n",
    "for similar_doc_index in top_10_indices[current_doc_index]:\n",
    "    plt.scatter(embeddings_2d[similar_doc_index, 0], embeddings_2d[similar_doc_index, 1], color='blue')\n",
    "\n",
    "plt.title('t-SNE visualization of document embeddings')\n",
    "plt.show()\n"
   ]
  },
  {
   "cell_type": "code",
   "execution_count": null,
   "id": "f0f2e2a0-0330-45f0-8e9a-e11984c917ee",
   "metadata": {},
   "outputs": [],
   "source": [
    "cur.execute(\"SELECT * FROM youtube_summaries\")"
   ]
  },
  {
   "cell_type": "code",
   "execution_count": null,
   "id": "9aa41648-78dc-4661-b304-d66be7939a97",
   "metadata": {},
   "outputs": [],
   "source": [
    "\"\"\"\n",
    "conn = sqlite3.connect('../db/sword_hackathon.db')\n",
    "\n",
    "cur = conn.cursor()\n",
    "# Serialize the numpy array\n",
    "embeddings_binary = numpy_to_binary(embeddings)\n",
    "\n",
    "# Insert into the SQLite database\n",
    "cursor.execute(\"INSERT INTO youtube_embeddings (url, embeddings) VALUES (?, ?)\", (url, embeddings_binary))\n",
    "\n",
    "# Commit the changes\n",
    "conn.commit()\n",
    "\n",
    "conn.close()\n",
    "\"\"\"\n"
   ]
  },
  {
   "cell_type": "code",
   "execution_count": 13,
   "id": "0e2a27c1-c428-480f-92e1-a864d94491d6",
   "metadata": {},
   "outputs": [],
   "source": [
    "data = []\n",
    "for idx, row in df.iterrows():\n",
    "    # Get the URL and numpy array\n",
    "    url = row['url']\n",
    "    embeddings = reshape_embeddings[idx, :]\n",
    "\n",
    "    # Add them to the data\n",
    "    data.append({\n",
    "        'url': url,\n",
    "        'embeddings': embeddings.tolist()  # Convert numpy array to list\n",
    "    })\n",
    "\n",
    "# Create DataFrame\n",
    "embeddings_df = pd.DataFrame(data)\n",
    "embeddings_df.to_csv(\"embeddings_text.csv\", index=False)"
   ]
  },
  {
   "cell_type": "code",
   "execution_count": null,
   "id": "79b21e84-3c0c-48e6-b313-37b9f78e922d",
   "metadata": {},
   "outputs": [],
   "source": [
    "embeddings_str"
   ]
  },
  {
   "cell_type": "code",
   "execution_count": 14,
   "id": "dd984c5e-ec21-4c24-ad79-62fda77c6bc4",
   "metadata": {},
   "outputs": [
    {
     "data": {
      "text/html": [
       "<div>\n",
       "<style scoped>\n",
       "    .dataframe tbody tr th:only-of-type {\n",
       "        vertical-align: middle;\n",
       "    }\n",
       "\n",
       "    .dataframe tbody tr th {\n",
       "        vertical-align: top;\n",
       "    }\n",
       "\n",
       "    .dataframe thead th {\n",
       "        text-align: right;\n",
       "    }\n",
       "</style>\n",
       "<table border=\"1\" class=\"dataframe\">\n",
       "  <thead>\n",
       "    <tr style=\"text-align: right;\">\n",
       "      <th></th>\n",
       "      <th>url</th>\n",
       "      <th>embeddings</th>\n",
       "    </tr>\n",
       "  </thead>\n",
       "  <tbody>\n",
       "    <tr>\n",
       "      <th>0</th>\n",
       "      <td>https://www.youtube.com//watch?v=a03U45jFxOI&amp;p...</td>\n",
       "      <td>[-4.587231636047363, -6.214117050170898, 8.622...</td>\n",
       "    </tr>\n",
       "    <tr>\n",
       "      <th>1</th>\n",
       "      <td>https://www.youtube.com//watch?v=nHj09xU40bM&amp;p...</td>\n",
       "      <td>[-4.361590385437012, -4.991323471069336, 8.537...</td>\n",
       "    </tr>\n",
       "    <tr>\n",
       "      <th>2</th>\n",
       "      <td>https://www.youtube.com//watch?v=yMy21uS3owE&amp;p...</td>\n",
       "      <td>[-4.569097518920898, -4.948065280914307, 7.898...</td>\n",
       "    </tr>\n",
       "    <tr>\n",
       "      <th>3</th>\n",
       "      <td>https://www.youtube.com//watch?v=4V9pPGrpN1E&amp;p...</td>\n",
       "      <td>[-4.503209590911865, -4.928098678588867, 8.940...</td>\n",
       "    </tr>\n",
       "    <tr>\n",
       "      <th>4</th>\n",
       "      <td>https://www.youtube.com//watch?v=JKs-cRneTyE&amp;p...</td>\n",
       "      <td>[-3.7463438510894775, -5.734409332275391, 7.35...</td>\n",
       "    </tr>\n",
       "    <tr>\n",
       "      <th>...</th>\n",
       "      <td>...</td>\n",
       "      <td>...</td>\n",
       "    </tr>\n",
       "    <tr>\n",
       "      <th>362</th>\n",
       "      <td>https://www.youtube.com//watch?v=S-88yo8VJL8&amp;p...</td>\n",
       "      <td>[-6.127265453338623, -6.4669365882873535, 5.16...</td>\n",
       "    </tr>\n",
       "    <tr>\n",
       "      <th>363</th>\n",
       "      <td>https://www.youtube.com//watch?v=8kKdqbg1Byg&amp;p...</td>\n",
       "      <td>[-5.674411773681641, -4.4669060707092285, 7.92...</td>\n",
       "    </tr>\n",
       "    <tr>\n",
       "      <th>364</th>\n",
       "      <td>https://www.youtube.com//watch?v=hStaW2PPF0c&amp;p...</td>\n",
       "      <td>[-11.90255355834961, -8.943065643310547, -1.03...</td>\n",
       "    </tr>\n",
       "    <tr>\n",
       "      <th>365</th>\n",
       "      <td>https://www.youtube.com//watch?v=4HDJ_fBrso4&amp;p...</td>\n",
       "      <td>[-6.655236721038818, -7.787965297698975, 4.871...</td>\n",
       "    </tr>\n",
       "    <tr>\n",
       "      <th>366</th>\n",
       "      <td>https://www.youtube.com//watch?v=PuTCDvVnvdQ&amp;p...</td>\n",
       "      <td>[-5.988962173461914, -7.328131198883057, 5.800...</td>\n",
       "    </tr>\n",
       "  </tbody>\n",
       "</table>\n",
       "<p>367 rows × 2 columns</p>\n",
       "</div>"
      ],
      "text/plain": [
       "                                                   url  \\\n",
       "0    https://www.youtube.com//watch?v=a03U45jFxOI&p...   \n",
       "1    https://www.youtube.com//watch?v=nHj09xU40bM&p...   \n",
       "2    https://www.youtube.com//watch?v=yMy21uS3owE&p...   \n",
       "3    https://www.youtube.com//watch?v=4V9pPGrpN1E&p...   \n",
       "4    https://www.youtube.com//watch?v=JKs-cRneTyE&p...   \n",
       "..                                                 ...   \n",
       "362  https://www.youtube.com//watch?v=S-88yo8VJL8&p...   \n",
       "363  https://www.youtube.com//watch?v=8kKdqbg1Byg&p...   \n",
       "364  https://www.youtube.com//watch?v=hStaW2PPF0c&p...   \n",
       "365  https://www.youtube.com//watch?v=4HDJ_fBrso4&p...   \n",
       "366  https://www.youtube.com//watch?v=PuTCDvVnvdQ&p...   \n",
       "\n",
       "                                            embeddings  \n",
       "0    [-4.587231636047363, -6.214117050170898, 8.622...  \n",
       "1    [-4.361590385437012, -4.991323471069336, 8.537...  \n",
       "2    [-4.569097518920898, -4.948065280914307, 7.898...  \n",
       "3    [-4.503209590911865, -4.928098678588867, 8.940...  \n",
       "4    [-3.7463438510894775, -5.734409332275391, 7.35...  \n",
       "..                                                 ...  \n",
       "362  [-6.127265453338623, -6.4669365882873535, 5.16...  \n",
       "363  [-5.674411773681641, -4.4669060707092285, 7.92...  \n",
       "364  [-11.90255355834961, -8.943065643310547, -1.03...  \n",
       "365  [-6.655236721038818, -7.787965297698975, 4.871...  \n",
       "366  [-5.988962173461914, -7.328131198883057, 5.800...  \n",
       "\n",
       "[367 rows x 2 columns]"
      ]
     },
     "execution_count": 14,
     "metadata": {},
     "output_type": "execute_result"
    }
   ],
   "source": [
    "embeddings_df"
   ]
  },
  {
   "cell_type": "code",
   "execution_count": null,
   "id": "65acc680-9cdf-444d-8597-1b3281874de5",
   "metadata": {},
   "outputs": [],
   "source": []
  }
 ],
 "metadata": {
  "kernelspec": {
   "display_name": "Python 3 (ipykernel)",
   "language": "python",
   "name": "python3"
  },
  "language_info": {
   "codemirror_mode": {
    "name": "ipython",
    "version": 3
   },
   "file_extension": ".py",
   "mimetype": "text/x-python",
   "name": "python",
   "nbconvert_exporter": "python",
   "pygments_lexer": "ipython3",
   "version": "3.11.4"
  }
 },
 "nbformat": 4,
 "nbformat_minor": 5
}
