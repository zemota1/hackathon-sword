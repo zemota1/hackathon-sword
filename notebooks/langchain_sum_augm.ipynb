{
 "cells": [
  {
   "cell_type": "code",
   "execution_count": 32,
   "id": "443ee516-2bf9-4e00-9e84-1e814a15ea1f",
   "metadata": {},
   "outputs": [],
   "source": [
    "import os\n",
    "import sys\n",
    "import openai\n",
    "\n",
    "from langchain.llms import OpenAI\n",
    "from langchain import LLMChain\n",
    "\n",
    "from langchain.chat_models import ChatOpenAI\n",
    "from langchain.prompts import PromptTemplate\n",
    "from langchain.prompts.chat import (\n",
    "    ChatPromptTemplate,\n",
    "    HumanMessagePromptTemplate,\n",
    ")\n",
    "\n",
    "sys.path.insert(0, \".\")\n",
    "sys.path.insert(1, \"..\")\n",
    "from src.config import AZURE_OPENAI_KEY, AZURE_OPENAI_ENDPOINT, AZURE_ENGINE_NAME"
   ]
  },
  {
   "cell_type": "code",
   "execution_count": 37,
   "id": "c359253d-c86f-4525-b28d-c812d3066cea",
   "metadata": {},
   "outputs": [
    {
     "name": "stderr",
     "output_type": "stream",
     "text": [
      "WARNING! engine is not default parameter.\n",
      "                    engine was transferred to model_kwargs.\n",
      "                    Please confirm that engine is what you intended.\n"
     ]
    }
   ],
   "source": [
    "chatgpt = ChatOpenAI(\n",
    "    engine=AZURE_ENGINE_NAME,\n",
    "    openai_api_key=AZURE_OPENAI_KEY,\n",
    "    openai_api_base=AZURE_OPENAI_ENDPOINT\n",
    ")"
   ]
  },
  {
   "cell_type": "code",
   "execution_count": 56,
   "id": "7376ec82-bc52-4767-b38d-f65d9ce39dcc",
   "metadata": {},
   "outputs": [
    {
     "name": "stdout",
     "output_type": "stream",
     "text": [
      "The text expresses disbelief in the existence of Covid-19, calling it a lie. No further information or explanation is provided.\n",
      "1- The statement expresses doubt regarding the reality of Covid-19, dismissing it as a falsehood without any elaboration.\n",
      "2- The text casts aspersions on the existence of Covid-19, labeling it as a deception without any supplementary details.\n",
      "3- The assertion expresses skepticism about the validity of Covid-19, branding it as a fabrication without any additional clarification.\n"
     ]
    }
   ],
   "source": [
    "human_message_prompt = HumanMessagePromptTemplate(\n",
    "        prompt=PromptTemplate(\n",
    "            input_variables=[\"claim\"],\n",
    "            template=\"Please summarize the text provide less than 30 words if needed, and structure the text {claim}?\",\n",
    "        )\n",
    "    )\n",
    "chat_prompt_template = ChatPromptTemplate.from_messages([human_message_prompt])\n",
    "first_chain = LLMChain(llm=chatgpt, prompt=chat_prompt_template)\n",
    "structured_text = first_chain.run(\"Covid 19 is a lie, I don't believe in it!\")\n",
    "\n",
    "print(structured_text)\n",
    "\n",
    "second_prompt = PromptTemplate(\n",
    "    template=\"\"\"Please rephrase {claim} the from the first chain in 3 different ways, following the s\n",
    "    \n",
    "    1- FIRST CLAIM\n",
    "    2- SECOND CLAIM\n",
    "    3- THIRD CLAIM\n",
    "    \n",
    "    \"\"\",\n",
    "    input_variables=[\"claim\"],\n",
    ")\n",
    "\n",
    "second_chain = LLMChain(llm=chatgpt, prompt=second_prompt)\n",
    "\n",
    "catchphrase = second_chain.run(structured_text)\n",
    "print(catchphrase)"
   ]
  },
  {
   "cell_type": "code",
   "execution_count": null,
   "id": "8e7731d4-4c2d-4e4a-95f8-b20baec62b8c",
   "metadata": {},
   "outputs": [],
   "source": []
  }
 ],
 "metadata": {
  "kernelspec": {
   "display_name": "Python 3 (ipykernel)",
   "language": "python",
   "name": "python3"
  },
  "language_info": {
   "codemirror_mode": {
    "name": "ipython",
    "version": 3
   },
   "file_extension": ".py",
   "mimetype": "text/x-python",
   "name": "python",
   "nbconvert_exporter": "python",
   "pygments_lexer": "ipython3",
   "version": "3.10.6"
  }
 },
 "nbformat": 4,
 "nbformat_minor": 5
}
