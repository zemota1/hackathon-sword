{
 "cells": [
  {
   "cell_type": "code",
   "execution_count": 1,
   "id": "d23ffc0b-2577-4837-9514-84f70335722e",
   "metadata": {},
   "outputs": [],
   "source": [
    "import ast\n",
    "import sqlite3\n",
    "import json\n",
    "from langchain.tools import YouTubeSearchTool\n",
    "from pytube import YouTube\n",
    "\n",
    "from youtube_transcript_api import YouTubeTranscriptApi\n",
    "import re\n",
    "import pandas as pd\n",
    "from tqdm import tqdm"
   ]
  },
  {
   "cell_type": "code",
   "execution_count": 2,
   "id": "194aa6f5-88e1-4108-99eb-2936c32290fb",
   "metadata": {},
   "outputs": [],
   "source": [
    "# Create a connection\n",
    "conn = sqlite3.connect('../db/sword_hackathon.db')\n",
    "\n",
    "# Create a cursor\n",
    "cursor = conn.cursor()\n",
    "\n",
    "# Execute SQL command\n",
    "cursor.execute(\"CREATE TABLE IF NOT EXISTS youtube_content (id INTEGER PRIMARY KEY, title TEXT, thumbnail_url TEXT, transcription TEXT, length INT, views INT, url TEXT)\")\n",
    "\n",
    "# Commit changes and close connection\n",
    "conn.commit()\n",
    "conn.close()"
   ]
  },
  {
   "cell_type": "code",
   "execution_count": 3,
   "id": "6b96e4a5-f146-41a2-8a97-18a62f990fa5",
   "metadata": {},
   "outputs": [
    {
     "data": {
      "text/plain": [
       "id                                                               1\n",
       "title            How To Make Butter Chicken At Home | Restauran...\n",
       "thumbnail_url         https://i.ytimg.com/vi/a03U45jFxOI/hq720.jpg\n",
       "transcription    [{\"text\": \"[Music]\", \"start\": 5.78, \"duration\"...\n",
       "length                                                         328\n",
       "views                                                     43467092\n",
       "url              https://www.youtube.com//watch?v=a03U45jFxOI&p...\n",
       "Name: 0, dtype: object"
      ]
     },
     "execution_count": 3,
     "metadata": {},
     "output_type": "execute_result"
    }
   ],
   "source": [
    "# Connect to the SQLite database\n",
    "conn = sqlite3.connect('../db/sword_hackathon.db')\n",
    "\n",
    "# Execute the SQL command and convert it to a pandas DataFrame\n",
    "df_existing = pd.read_sql_query(\"SELECT * FROM youtube_content\", conn)\n",
    "\n",
    "# Close the connection to the database\n",
    "conn.close()\n",
    "\n",
    "# Display the DataFrame\n",
    "df_existing.iloc[0]"
   ]
  },
  {
   "cell_type": "code",
   "execution_count": 4,
   "id": "afc6b692-b21a-484d-91f8-af05156b8b6d",
   "metadata": {},
   "outputs": [],
   "source": [
    "tool = YouTubeSearchTool()"
   ]
  },
  {
   "cell_type": "code",
   "execution_count": 5,
   "id": "c9c42038-741a-474e-a82a-ec40edf35e5b",
   "metadata": {},
   "outputs": [],
   "source": [
    "all_videos = tool.run(\"machine learning,10\")"
   ]
  },
  {
   "cell_type": "code",
   "execution_count": 6,
   "id": "918629ee-c045-4f4c-94fb-2509434b7a59",
   "metadata": {},
   "outputs": [
    {
     "data": {
      "text/plain": [
       "['/watch?v=OtD8wVaFm6E&pp=ygUHeGdib29zdA%3D%3D',\n",
       " '/watch?v=TyvYZ26alZs&pp=ygUHeGdib29zdA%3D%3D',\n",
       " '/watch?v=OQKQHNCVf5k&pp=ygUHeGdib29zdA%3D%3D',\n",
       " '/watch?v=hVOuCfJxprI&pp=ygUHeGdib29zdA%3D%3D',\n",
       " '/watch?v=ZVFeW798-2I&pp=ygUHeGdib29zdA%3D%3D',\n",
       " '/watch?v=GrJP9FLV3FE&pp=ygUHeGdib29zdA%3D%3D',\n",
       " '/watch?v=XXHhrlL-FWc&pp=ygUHeGdib29zdA%3D%3D',\n",
       " '/watch?v=FakVn1RgDms&pp=ygUHeGdib29zdA%3D%3D',\n",
       " '/shorts/_8NJz-00Sgw',\n",
       " '/watch?v=8b1JEDvenQU&pp=ygUHeGdib29zdA%3D%3D']"
      ]
     },
     "execution_count": 6,
     "metadata": {},
     "output_type": "execute_result"
    }
   ],
   "source": [
    "all_videos = tool.run(\"xgboost,10\")\n",
    "\n",
    "list_urls = ast.literal_eval(all_videos)\n",
    "list_urls"
   ]
  },
  {
   "cell_type": "code",
   "execution_count": 9,
   "id": "d914ecfc-1325-4b6d-866d-b50888aa2aef",
   "metadata": {},
   "outputs": [
    {
     "name": "stderr",
     "output_type": "stream",
     "text": [
      "100%|███████████████████████████████████████████| 10/10 [00:09<00:00,  1.11it/s]\n"
     ]
    }
   ],
   "source": [
    "all_subjects = ['kdd conference']\n",
    "\n",
    "for i in all_subjects:\n",
    "    all_videos = tool.run(f\"{i},10\")\n",
    "    \n",
    "    list_urls = ast.literal_eval(all_videos)\n",
    "    \n",
    "    conn = sqlite3.connect('../db/sword_hackathon.db')\n",
    "    \n",
    "    # Create a cursor\n",
    "    cursor = conn.cursor()\n",
    "    \n",
    "    \n",
    "    for i in tqdm(list_urls):\n",
    "    \n",
    "        if f\"https://www.youtube.com/{i}\" not in df_existing['url'].unique():\n",
    "            try:\n",
    "                id = i.split(\"watch?v=\")[1].split(\"&\")[0]\n",
    "                yt = YouTube(f\"https://www.youtube.com/{i}\")\n",
    "            except IndexError:\n",
    "                continue\n",
    "            try:\n",
    "                transcription = YouTubeTranscriptApi.get_transcript(id)\n",
    "                transcription_json = json.dumps(transcription)\n",
    "                \n",
    "                cursor.execute(\"INSERT INTO youtube_content (title, transcription, thumbnail_url, length, views, URL) VALUES (?, ?, ?, ?, ?, ?)\",\n",
    "                           (yt.title, transcription_json, str(yt.thumbnail_url), yt.length, yt.views, f\"https://www.youtube.com/{i}\"))\n",
    "            except:\n",
    "                continue\n",
    "        \n",
    "    \n",
    "    # Commit changes and close connection\n",
    "    conn.commit()\n",
    "    conn.close()\n"
   ]
  },
  {
   "cell_type": "code",
   "execution_count": null,
   "id": "733090e4-c89c-4b7c-a5e6-b680d7eb3f9e",
   "metadata": {},
   "outputs": [],
   "source": []
  }
 ],
 "metadata": {
  "kernelspec": {
   "display_name": "Python 3 (ipykernel)",
   "language": "python",
   "name": "python3"
  },
  "language_info": {
   "codemirror_mode": {
    "name": "ipython",
    "version": 3
   },
   "file_extension": ".py",
   "mimetype": "text/x-python",
   "name": "python",
   "nbconvert_exporter": "python",
   "pygments_lexer": "ipython3",
   "version": "3.11.4"
  }
 },
 "nbformat": 4,
 "nbformat_minor": 5
}
