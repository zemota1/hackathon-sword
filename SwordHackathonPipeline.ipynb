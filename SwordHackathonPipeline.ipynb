{
 "cells": [
  {
   "cell_type": "code",
   "execution_count": 46,
   "id": "0fd43233",
   "metadata": {},
   "outputs": [],
   "source": [
    "import os\n",
    "import openai\n",
    "from functools import reduce\n",
    "from langchain.chat_models import ChatOpenAI\n",
    "from langchain.prompts import ChatPromptTemplate\n",
    "from langchain.chains import LLMChain\n",
    "from langchain.retrievers import ArxivRetriever\n",
    "from langchain.retrievers import WikipediaRetriever\n",
    "#from langchain.embeddings import \n",
    "from youtube_transcript_api import YouTubeTranscriptApi"
   ]
  },
  {
   "cell_type": "code",
   "execution_count": 47,
   "id": "9a07955d",
   "metadata": {},
   "outputs": [
    {
     "name": "stdout",
     "output_type": "stream",
     "text": [
      "SPEAKER 1: Unless you've been living under a rock, you've probably heard that AI is getting very good\n"
     ]
    }
   ],
   "source": [
    "# YouTube Video Subtitles Retrieval\n",
    "videoID = 'iR2O2GPbB0E&ab'\n",
    "transcript = YouTubeTranscriptApi.get_transcript(videoID)\n",
    "transcript = [thisObject[\"text\"].replace(\"\\n\", \" \") for thisObject in transcript]\n",
    "transcript = reduce(lambda u, v: u + \" \" + v, transcript)\n",
    "\n",
    "print(transcript[:101])"
   ]
  },
  {
   "cell_type": "code",
   "execution_count": 48,
   "id": "5106a18d",
   "metadata": {},
   "outputs": [],
   "source": [
    "# Credentials\n",
    "os.environ[\"OPENAI_API_KEY\"] = \"76c1a2c33c9a4f4b8bffa3d3c8b51ebb\""
   ]
  },
  {
   "cell_type": "code",
   "execution_count": null,
   "id": "3b67ca3f",
   "metadata": {},
   "outputs": [],
   "source": [
    "def pipeline(videoID, searchLimit):\n",
    "    # YouTube Video Subtitles Retrieval\n",
    "    transcript = YouTubeTranscriptApi.get_transcript(videoID)\n",
    "    transcript = [thisObject[\"text\"].replace(\"\\n\", \" \") for thisObject in transcript]\n",
    "    transcript = reduce(lambda u, v: u + \" \" + v, transcript)\n",
    "    \n",
    "    # Get Summarization\n",
    "    LLM = ChatOpenAI(temperature=0.0)\n",
    "    summaryPrompt = ChatPromptTemplate.from_template(\n",
    "        \"Summarize the following text as much as possible:\\n\\n{text}\"\n",
    "    )\n",
    "    summaryChain = LLMChain(\n",
    "        llm=LLM,\n",
    "        prompt=summaryPrompt\n",
    "    )\n",
    "    summary = summaryChain.run(transcript)\n",
    "    \n",
    "    # Ask the user its preferable information source\n",
    "    source = input(\"Please enter the information source from - Wikipedia, arXiv\") # to add more sources\n",
    "    \n",
    "    if source == \"Wikipedia\":\n",
    "        retriever = WikipediaRetriever(top_k_results=searchLimit)\n",
    "    else:\n",
    "        retriever = ArxivRetriever(load_max_docs=searchLimit)\n",
    "        \n",
    "    documents = retriever.get_relevant_documents(query=summary)\n",
    "    \n",
    "    return documents"
   ]
  },
  {
   "cell_type": "code",
   "execution_count": null,
   "id": "22a8f076",
   "metadata": {},
   "outputs": [],
   "source": []
  },
  {
   "cell_type": "code",
   "execution_count": null,
   "id": "02d08b16",
   "metadata": {},
   "outputs": [],
   "source": []
  },
  {
   "cell_type": "code",
   "execution_count": null,
   "id": "7fa753ba",
   "metadata": {},
   "outputs": [],
   "source": []
  },
  {
   "cell_type": "code",
   "execution_count": null,
   "id": "fcf00193",
   "metadata": {},
   "outputs": [],
   "source": []
  },
  {
   "cell_type": "code",
   "execution_count": null,
   "id": "0c56179e",
   "metadata": {},
   "outputs": [],
   "source": []
  }
 ],
 "metadata": {
  "kernelspec": {
   "display_name": "Python 3 (ipykernel)",
   "language": "python",
   "name": "python3"
  },
  "language_info": {
   "codemirror_mode": {
    "name": "ipython",
    "version": 3
   },
   "file_extension": ".py",
   "mimetype": "text/x-python",
   "name": "python",
   "nbconvert_exporter": "python",
   "pygments_lexer": "ipython3",
   "version": "3.10.6"
  }
 },
 "nbformat": 4,
 "nbformat_minor": 5
}
